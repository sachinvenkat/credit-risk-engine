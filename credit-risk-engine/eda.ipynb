{
 "cells": [
  {
   "cell_type": "code",
   "execution_count": 1,
   "id": "37180fa3-0237-402a-abde-b946f59ef41e",
   "metadata": {},
   "outputs": [],
   "source": [
    "import pandas as pd"
   ]
  },
  {
   "cell_type": "code",
   "execution_count": 2,
   "id": "ac8632b4-8e6c-4de1-9bfd-e66110c4be8b",
   "metadata": {},
   "outputs": [],
   "source": [
    "column_names = [\n",
    "    'Checking_Account_Status', 'Duration_in_months', 'Credit_History', \n",
    "    'Purpose', 'Credit_Amount', 'Savings_Account_Bonds', \n",
    "    'Employment_Since', 'Installment_Rate', 'Personal_Status_Sex', \n",
    "    'Other_Debtors_Guarantors', 'Present_Residence_Since', 'Property', \n",
    "    'Age_in_years', 'Other_Installment_Plans', 'Housing', \n",
    "    'Number_of_Existing_Credits', 'Job', 'Number_of_Dependents', \n",
    "    'Telephone', 'Foreign_Worker', 'Credit_Risk'  # Target variable\n",
    "]"
   ]
  },
  {
   "cell_type": "code",
   "execution_count": 3,
   "id": "581ea506-5621-48d0-a784-05bc81a1c32a",
   "metadata": {},
   "outputs": [],
   "source": [
    "df = pd.read_csv(\n",
    "        'C:/Users/2638368/Desktop/AI_Credit/credit-risk-engine/german.data', \n",
    "        sep=' ', \n",
    "        header=None, \n",
    "        names=column_names\n",
    ")"
   ]
  },
  {
   "cell_type": "code",
   "execution_count": 4,
   "id": "ed1a8bfc-8bd2-4c1b-abc1-14021508f6f3",
   "metadata": {},
   "outputs": [
    {
     "name": "stdout",
     "output_type": "stream",
     "text": [
      "  Checking_Account_Status  Duration_in_months Credit_History Purpose  \\\n",
      "0                     A11                   6            A34     A43   \n",
      "1                     A12                  48            A32     A43   \n",
      "2                     A14                  12            A34     A46   \n",
      "3                     A11                  42            A32     A42   \n",
      "4                     A11                  24            A33     A40   \n",
      "\n",
      "   Credit_Amount Savings_Account_Bonds Employment_Since  Installment_Rate  \\\n",
      "0           1169                   A65              A75                 4   \n",
      "1           5951                   A61              A73                 2   \n",
      "2           2096                   A61              A74                 2   \n",
      "3           7882                   A61              A74                 2   \n",
      "4           4870                   A61              A73                 3   \n",
      "\n",
      "  Personal_Status_Sex Other_Debtors_Guarantors  ...  Property Age_in_years  \\\n",
      "0                 A93                     A101  ...      A121           67   \n",
      "1                 A92                     A101  ...      A121           22   \n",
      "2                 A93                     A101  ...      A121           49   \n",
      "3                 A93                     A103  ...      A122           45   \n",
      "4                 A93                     A101  ...      A124           53   \n",
      "\n",
      "   Other_Installment_Plans Housing Number_of_Existing_Credits   Job  \\\n",
      "0                     A143    A152                          2  A173   \n",
      "1                     A143    A152                          1  A173   \n",
      "2                     A143    A152                          1  A172   \n",
      "3                     A143    A153                          1  A173   \n",
      "4                     A143    A153                          2  A173   \n",
      "\n",
      "  Number_of_Dependents  Telephone Foreign_Worker Credit_Risk  \n",
      "0                    1       A192           A201           1  \n",
      "1                    1       A191           A201           2  \n",
      "2                    2       A191           A201           1  \n",
      "3                    2       A191           A201           1  \n",
      "4                    2       A191           A201           2  \n",
      "\n",
      "[5 rows x 21 columns]\n"
     ]
    }
   ],
   "source": [
    "print(df.head())"
   ]
  },
  {
   "cell_type": "code",
   "execution_count": 5,
   "id": "944fab2e-c343-4484-bece-2d6fbd1ce768",
   "metadata": {},
   "outputs": [
    {
     "name": "stdout",
     "output_type": "stream",
     "text": [
      "<class 'pandas.core.frame.DataFrame'>\n",
      "RangeIndex: 1000 entries, 0 to 999\n",
      "Data columns (total 21 columns):\n",
      " #   Column                      Non-Null Count  Dtype \n",
      "---  ------                      --------------  ----- \n",
      " 0   Checking_Account_Status     1000 non-null   object\n",
      " 1   Duration_in_months          1000 non-null   int64 \n",
      " 2   Credit_History              1000 non-null   object\n",
      " 3   Purpose                     1000 non-null   object\n",
      " 4   Credit_Amount               1000 non-null   int64 \n",
      " 5   Savings_Account_Bonds       1000 non-null   object\n",
      " 6   Employment_Since            1000 non-null   object\n",
      " 7   Installment_Rate            1000 non-null   int64 \n",
      " 8   Personal_Status_Sex         1000 non-null   object\n",
      " 9   Other_Debtors_Guarantors    1000 non-null   object\n",
      " 10  Present_Residence_Since     1000 non-null   int64 \n",
      " 11  Property                    1000 non-null   object\n",
      " 12  Age_in_years                1000 non-null   int64 \n",
      " 13  Other_Installment_Plans     1000 non-null   object\n",
      " 14  Housing                     1000 non-null   object\n",
      " 15  Number_of_Existing_Credits  1000 non-null   int64 \n",
      " 16  Job                         1000 non-null   object\n",
      " 17  Number_of_Dependents        1000 non-null   int64 \n",
      " 18  Telephone                   1000 non-null   object\n",
      " 19  Foreign_Worker              1000 non-null   object\n",
      " 20  Credit_Risk                 1000 non-null   int64 \n",
      "dtypes: int64(8), object(13)\n",
      "memory usage: 164.2+ KB\n"
     ]
    }
   ],
   "source": [
    "df.info()\n"
   ]
  },
  {
   "cell_type": "code",
   "execution_count": 6,
   "id": "44b4564b-a6eb-4ecb-af3e-cc32fb1366cc",
   "metadata": {},
   "outputs": [
    {
     "data": {
      "text/html": [
       "<div>\n",
       "<style scoped>\n",
       "    .dataframe tbody tr th:only-of-type {\n",
       "        vertical-align: middle;\n",
       "    }\n",
       "\n",
       "    .dataframe tbody tr th {\n",
       "        vertical-align: top;\n",
       "    }\n",
       "\n",
       "    .dataframe thead th {\n",
       "        text-align: right;\n",
       "    }\n",
       "</style>\n",
       "<table border=\"1\" class=\"dataframe\">\n",
       "  <thead>\n",
       "    <tr style=\"text-align: right;\">\n",
       "      <th></th>\n",
       "      <th>Checking_Account_Status</th>\n",
       "      <th>Duration_in_months</th>\n",
       "      <th>Credit_History</th>\n",
       "      <th>Purpose</th>\n",
       "      <th>Credit_Amount</th>\n",
       "      <th>Savings_Account_Bonds</th>\n",
       "      <th>Employment_Since</th>\n",
       "      <th>Installment_Rate</th>\n",
       "      <th>Personal_Status_Sex</th>\n",
       "      <th>Other_Debtors_Guarantors</th>\n",
       "      <th>...</th>\n",
       "      <th>Property</th>\n",
       "      <th>Age_in_years</th>\n",
       "      <th>Other_Installment_Plans</th>\n",
       "      <th>Housing</th>\n",
       "      <th>Number_of_Existing_Credits</th>\n",
       "      <th>Job</th>\n",
       "      <th>Number_of_Dependents</th>\n",
       "      <th>Telephone</th>\n",
       "      <th>Foreign_Worker</th>\n",
       "      <th>Credit_Risk</th>\n",
       "    </tr>\n",
       "  </thead>\n",
       "  <tbody>\n",
       "    <tr>\n",
       "      <th>0</th>\n",
       "      <td>A11</td>\n",
       "      <td>6</td>\n",
       "      <td>A34</td>\n",
       "      <td>A43</td>\n",
       "      <td>1169</td>\n",
       "      <td>A65</td>\n",
       "      <td>A75</td>\n",
       "      <td>4</td>\n",
       "      <td>A93</td>\n",
       "      <td>A101</td>\n",
       "      <td>...</td>\n",
       "      <td>A121</td>\n",
       "      <td>67</td>\n",
       "      <td>A143</td>\n",
       "      <td>A152</td>\n",
       "      <td>2</td>\n",
       "      <td>A173</td>\n",
       "      <td>1</td>\n",
       "      <td>A192</td>\n",
       "      <td>A201</td>\n",
       "      <td>1</td>\n",
       "    </tr>\n",
       "    <tr>\n",
       "      <th>1</th>\n",
       "      <td>A12</td>\n",
       "      <td>48</td>\n",
       "      <td>A32</td>\n",
       "      <td>A43</td>\n",
       "      <td>5951</td>\n",
       "      <td>A61</td>\n",
       "      <td>A73</td>\n",
       "      <td>2</td>\n",
       "      <td>A92</td>\n",
       "      <td>A101</td>\n",
       "      <td>...</td>\n",
       "      <td>A121</td>\n",
       "      <td>22</td>\n",
       "      <td>A143</td>\n",
       "      <td>A152</td>\n",
       "      <td>1</td>\n",
       "      <td>A173</td>\n",
       "      <td>1</td>\n",
       "      <td>A191</td>\n",
       "      <td>A201</td>\n",
       "      <td>2</td>\n",
       "    </tr>\n",
       "    <tr>\n",
       "      <th>2</th>\n",
       "      <td>A14</td>\n",
       "      <td>12</td>\n",
       "      <td>A34</td>\n",
       "      <td>A46</td>\n",
       "      <td>2096</td>\n",
       "      <td>A61</td>\n",
       "      <td>A74</td>\n",
       "      <td>2</td>\n",
       "      <td>A93</td>\n",
       "      <td>A101</td>\n",
       "      <td>...</td>\n",
       "      <td>A121</td>\n",
       "      <td>49</td>\n",
       "      <td>A143</td>\n",
       "      <td>A152</td>\n",
       "      <td>1</td>\n",
       "      <td>A172</td>\n",
       "      <td>2</td>\n",
       "      <td>A191</td>\n",
       "      <td>A201</td>\n",
       "      <td>1</td>\n",
       "    </tr>\n",
       "    <tr>\n",
       "      <th>3</th>\n",
       "      <td>A11</td>\n",
       "      <td>42</td>\n",
       "      <td>A32</td>\n",
       "      <td>A42</td>\n",
       "      <td>7882</td>\n",
       "      <td>A61</td>\n",
       "      <td>A74</td>\n",
       "      <td>2</td>\n",
       "      <td>A93</td>\n",
       "      <td>A103</td>\n",
       "      <td>...</td>\n",
       "      <td>A122</td>\n",
       "      <td>45</td>\n",
       "      <td>A143</td>\n",
       "      <td>A153</td>\n",
       "      <td>1</td>\n",
       "      <td>A173</td>\n",
       "      <td>2</td>\n",
       "      <td>A191</td>\n",
       "      <td>A201</td>\n",
       "      <td>1</td>\n",
       "    </tr>\n",
       "    <tr>\n",
       "      <th>4</th>\n",
       "      <td>A11</td>\n",
       "      <td>24</td>\n",
       "      <td>A33</td>\n",
       "      <td>A40</td>\n",
       "      <td>4870</td>\n",
       "      <td>A61</td>\n",
       "      <td>A73</td>\n",
       "      <td>3</td>\n",
       "      <td>A93</td>\n",
       "      <td>A101</td>\n",
       "      <td>...</td>\n",
       "      <td>A124</td>\n",
       "      <td>53</td>\n",
       "      <td>A143</td>\n",
       "      <td>A153</td>\n",
       "      <td>2</td>\n",
       "      <td>A173</td>\n",
       "      <td>2</td>\n",
       "      <td>A191</td>\n",
       "      <td>A201</td>\n",
       "      <td>2</td>\n",
       "    </tr>\n",
       "  </tbody>\n",
       "</table>\n",
       "<p>5 rows × 21 columns</p>\n",
       "</div>"
      ],
      "text/plain": [
       "  Checking_Account_Status  Duration_in_months Credit_History Purpose  \\\n",
       "0                     A11                   6            A34     A43   \n",
       "1                     A12                  48            A32     A43   \n",
       "2                     A14                  12            A34     A46   \n",
       "3                     A11                  42            A32     A42   \n",
       "4                     A11                  24            A33     A40   \n",
       "\n",
       "   Credit_Amount Savings_Account_Bonds Employment_Since  Installment_Rate  \\\n",
       "0           1169                   A65              A75                 4   \n",
       "1           5951                   A61              A73                 2   \n",
       "2           2096                   A61              A74                 2   \n",
       "3           7882                   A61              A74                 2   \n",
       "4           4870                   A61              A73                 3   \n",
       "\n",
       "  Personal_Status_Sex Other_Debtors_Guarantors  ...  Property Age_in_years  \\\n",
       "0                 A93                     A101  ...      A121           67   \n",
       "1                 A92                     A101  ...      A121           22   \n",
       "2                 A93                     A101  ...      A121           49   \n",
       "3                 A93                     A103  ...      A122           45   \n",
       "4                 A93                     A101  ...      A124           53   \n",
       "\n",
       "   Other_Installment_Plans Housing Number_of_Existing_Credits   Job  \\\n",
       "0                     A143    A152                          2  A173   \n",
       "1                     A143    A152                          1  A173   \n",
       "2                     A143    A152                          1  A172   \n",
       "3                     A143    A153                          1  A173   \n",
       "4                     A143    A153                          2  A173   \n",
       "\n",
       "  Number_of_Dependents  Telephone Foreign_Worker Credit_Risk  \n",
       "0                    1       A192           A201           1  \n",
       "1                    1       A191           A201           2  \n",
       "2                    2       A191           A201           1  \n",
       "3                    2       A191           A201           1  \n",
       "4                    2       A191           A201           2  \n",
       "\n",
       "[5 rows x 21 columns]"
      ]
     },
     "execution_count": 6,
     "metadata": {},
     "output_type": "execute_result"
    }
   ],
   "source": [
    "df.head()"
   ]
  },
  {
   "cell_type": "code",
   "execution_count": 7,
   "id": "2300637a-5c83-480f-b84c-68ae41db4551",
   "metadata": {},
   "outputs": [
    {
     "data": {
      "text/html": [
       "<div>\n",
       "<style scoped>\n",
       "    .dataframe tbody tr th:only-of-type {\n",
       "        vertical-align: middle;\n",
       "    }\n",
       "\n",
       "    .dataframe tbody tr th {\n",
       "        vertical-align: top;\n",
       "    }\n",
       "\n",
       "    .dataframe thead th {\n",
       "        text-align: right;\n",
       "    }\n",
       "</style>\n",
       "<table border=\"1\" class=\"dataframe\">\n",
       "  <thead>\n",
       "    <tr style=\"text-align: right;\">\n",
       "      <th></th>\n",
       "      <th>Duration_in_months</th>\n",
       "      <th>Credit_Amount</th>\n",
       "      <th>Installment_Rate</th>\n",
       "      <th>Present_Residence_Since</th>\n",
       "      <th>Age_in_years</th>\n",
       "      <th>Number_of_Existing_Credits</th>\n",
       "      <th>Number_of_Dependents</th>\n",
       "      <th>Credit_Risk</th>\n",
       "    </tr>\n",
       "  </thead>\n",
       "  <tbody>\n",
       "    <tr>\n",
       "      <th>count</th>\n",
       "      <td>1000.000000</td>\n",
       "      <td>1000.000000</td>\n",
       "      <td>1000.000000</td>\n",
       "      <td>1000.000000</td>\n",
       "      <td>1000.000000</td>\n",
       "      <td>1000.000000</td>\n",
       "      <td>1000.000000</td>\n",
       "      <td>1000.000000</td>\n",
       "    </tr>\n",
       "    <tr>\n",
       "      <th>mean</th>\n",
       "      <td>20.903000</td>\n",
       "      <td>3271.258000</td>\n",
       "      <td>2.973000</td>\n",
       "      <td>2.845000</td>\n",
       "      <td>35.546000</td>\n",
       "      <td>1.407000</td>\n",
       "      <td>1.155000</td>\n",
       "      <td>1.300000</td>\n",
       "    </tr>\n",
       "    <tr>\n",
       "      <th>std</th>\n",
       "      <td>12.058814</td>\n",
       "      <td>2822.736876</td>\n",
       "      <td>1.118715</td>\n",
       "      <td>1.103718</td>\n",
       "      <td>11.375469</td>\n",
       "      <td>0.577654</td>\n",
       "      <td>0.362086</td>\n",
       "      <td>0.458487</td>\n",
       "    </tr>\n",
       "    <tr>\n",
       "      <th>min</th>\n",
       "      <td>4.000000</td>\n",
       "      <td>250.000000</td>\n",
       "      <td>1.000000</td>\n",
       "      <td>1.000000</td>\n",
       "      <td>19.000000</td>\n",
       "      <td>1.000000</td>\n",
       "      <td>1.000000</td>\n",
       "      <td>1.000000</td>\n",
       "    </tr>\n",
       "    <tr>\n",
       "      <th>25%</th>\n",
       "      <td>12.000000</td>\n",
       "      <td>1365.500000</td>\n",
       "      <td>2.000000</td>\n",
       "      <td>2.000000</td>\n",
       "      <td>27.000000</td>\n",
       "      <td>1.000000</td>\n",
       "      <td>1.000000</td>\n",
       "      <td>1.000000</td>\n",
       "    </tr>\n",
       "    <tr>\n",
       "      <th>50%</th>\n",
       "      <td>18.000000</td>\n",
       "      <td>2319.500000</td>\n",
       "      <td>3.000000</td>\n",
       "      <td>3.000000</td>\n",
       "      <td>33.000000</td>\n",
       "      <td>1.000000</td>\n",
       "      <td>1.000000</td>\n",
       "      <td>1.000000</td>\n",
       "    </tr>\n",
       "    <tr>\n",
       "      <th>75%</th>\n",
       "      <td>24.000000</td>\n",
       "      <td>3972.250000</td>\n",
       "      <td>4.000000</td>\n",
       "      <td>4.000000</td>\n",
       "      <td>42.000000</td>\n",
       "      <td>2.000000</td>\n",
       "      <td>1.000000</td>\n",
       "      <td>2.000000</td>\n",
       "    </tr>\n",
       "    <tr>\n",
       "      <th>max</th>\n",
       "      <td>72.000000</td>\n",
       "      <td>18424.000000</td>\n",
       "      <td>4.000000</td>\n",
       "      <td>4.000000</td>\n",
       "      <td>75.000000</td>\n",
       "      <td>4.000000</td>\n",
       "      <td>2.000000</td>\n",
       "      <td>2.000000</td>\n",
       "    </tr>\n",
       "  </tbody>\n",
       "</table>\n",
       "</div>"
      ],
      "text/plain": [
       "       Duration_in_months  Credit_Amount  Installment_Rate  \\\n",
       "count         1000.000000    1000.000000       1000.000000   \n",
       "mean            20.903000    3271.258000          2.973000   \n",
       "std             12.058814    2822.736876          1.118715   \n",
       "min              4.000000     250.000000          1.000000   \n",
       "25%             12.000000    1365.500000          2.000000   \n",
       "50%             18.000000    2319.500000          3.000000   \n",
       "75%             24.000000    3972.250000          4.000000   \n",
       "max             72.000000   18424.000000          4.000000   \n",
       "\n",
       "       Present_Residence_Since  Age_in_years  Number_of_Existing_Credits  \\\n",
       "count              1000.000000   1000.000000                 1000.000000   \n",
       "mean                  2.845000     35.546000                    1.407000   \n",
       "std                   1.103718     11.375469                    0.577654   \n",
       "min                   1.000000     19.000000                    1.000000   \n",
       "25%                   2.000000     27.000000                    1.000000   \n",
       "50%                   3.000000     33.000000                    1.000000   \n",
       "75%                   4.000000     42.000000                    2.000000   \n",
       "max                   4.000000     75.000000                    4.000000   \n",
       "\n",
       "       Number_of_Dependents  Credit_Risk  \n",
       "count           1000.000000  1000.000000  \n",
       "mean               1.155000     1.300000  \n",
       "std                0.362086     0.458487  \n",
       "min                1.000000     1.000000  \n",
       "25%                1.000000     1.000000  \n",
       "50%                1.000000     1.000000  \n",
       "75%                1.000000     2.000000  \n",
       "max                2.000000     2.000000  "
      ]
     },
     "execution_count": 7,
     "metadata": {},
     "output_type": "execute_result"
    }
   ],
   "source": [
    "df.describe()"
   ]
  },
  {
   "cell_type": "code",
   "execution_count": 8,
   "id": "733119f3-50c3-4993-9c38-d62ccb201f34",
   "metadata": {},
   "outputs": [
    {
     "data": {
      "text/plain": [
       "(1000, 21)"
      ]
     },
     "execution_count": 8,
     "metadata": {},
     "output_type": "execute_result"
    }
   ],
   "source": [
    "df.shape"
   ]
  },
  {
   "cell_type": "code",
   "execution_count": 9,
   "id": "5c05918d-14f2-40c0-96c7-3127a4fc12ad",
   "metadata": {},
   "outputs": [
    {
     "name": "stdout",
     "output_type": "stream",
     "text": [
      "The dataset has 1000 rows and 21 columns.\n"
     ]
    }
   ],
   "source": [
    "print(f\"The dataset has {df.shape[0]} rows and {df.shape[1]} columns.\")"
   ]
  },
  {
   "cell_type": "code",
   "execution_count": 10,
   "id": "fd96d03c-3ddf-4cb4-bb80-5092ca80297b",
   "metadata": {},
   "outputs": [
    {
     "data": {
      "text/plain": [
       "0    1\n",
       "1    2\n",
       "2    1\n",
       "3    1\n",
       "4    2\n",
       "Name: Credit_Risk, dtype: int64"
      ]
     },
     "execution_count": 10,
     "metadata": {},
     "output_type": "execute_result"
    }
   ],
   "source": [
    "df[\"Credit_Risk\"].head()"
   ]
  },
  {
   "cell_type": "code",
   "execution_count": 11,
   "id": "364399fe-ed3f-41a1-ae25-fa8db5050e0a",
   "metadata": {},
   "outputs": [
    {
     "data": {
      "text/plain": [
       "np.int64(700)"
      ]
     },
     "execution_count": 11,
     "metadata": {},
     "output_type": "execute_result"
    }
   ],
   "source": [
    "df[\"Credit_Risk\"].value_counts()[1]"
   ]
  },
  {
   "cell_type": "code",
   "execution_count": 12,
   "id": "abc91c13-a726-4d48-8af4-deeb447c5ca0",
   "metadata": {},
   "outputs": [
    {
     "data": {
      "text/plain": [
       "np.int64(300)"
      ]
     },
     "execution_count": 12,
     "metadata": {},
     "output_type": "execute_result"
    }
   ],
   "source": [
    "df[\"Credit_Risk\"].value_counts()[2]"
   ]
  },
  {
   "cell_type": "code",
   "execution_count": 13,
   "id": "a68e180a-cbdd-4bed-8cda-d835233c4a52",
   "metadata": {},
   "outputs": [],
   "source": [
    "import matplotlib.pyplot as plt\n",
    "import numpy as np"
   ]
  },
  {
   "cell_type": "code",
   "execution_count": 14,
   "id": "8307b4e2-4e11-4c78-ab1d-f14a716e6301",
   "metadata": {},
   "outputs": [],
   "source": [
    "np.random.seed(42)\n",
    "credit_risk_data = [1] * 700 + [2] * 300"
   ]
  },
  {
   "cell_type": "code",
   "execution_count": 15,
   "id": "7ecd4e4f-b226-405a-ba1e-d2470eb34f04",
   "metadata": {},
   "outputs": [],
   "source": [
    "age_data = np.random.randint(19, 75, 1000)"
   ]
  },
  {
   "cell_type": "code",
   "execution_count": 17,
   "id": "fafb296c-4905-4c38-a3d5-69826aa00b13",
   "metadata": {},
   "outputs": [],
   "source": [
    "df =  pd.DataFrame({\n",
    "    \"Credit_Risk\": credit_risk_data,\n",
    "    \"Age_in_Years\": age_data,\n",
    "    \"Purpose\": np.random.choice(['A40', 'A43', 'A42', 'A41', 'A49'], size=1000)\n",
    "})\n",
    "  "
   ]
  },
  {
   "cell_type": "code",
   "execution_count": null,
   "id": "256c5540-dd54-471b-9940-b384925125b3",
   "metadata": {},
   "outputs": [],
   "source": [
    "plt.figure(figsize=(9, 6))\n",
    "\n",
    "# Plot the histogram. 'bins' defines the number of bars.\n",
    "# 'edgecolor' adds separation between bars for better visibility.\n",
    "plt.hist(\n",
    "    df['Age_in_years'], \n",
    "    bins=20, \n",
    "    color='teal', \n",
    "    edgecolor='black', \n",
    "    alpha=0.7\n",
    ")\n",
    "plt.figure("
   ]
  }
 ],
 "metadata": {
  "kernelspec": {
   "display_name": "Python 3 (ipykernel)",
   "language": "python",
   "name": "python3"
  },
  "language_info": {
   "codemirror_mode": {
    "name": "ipython",
    "version": 3
   },
   "file_extension": ".py",
   "mimetype": "text/x-python",
   "name": "python",
   "nbconvert_exporter": "python",
   "pygments_lexer": "ipython3",
   "version": "3.13.9"
  }
 },
 "nbformat": 4,
 "nbformat_minor": 5
}
